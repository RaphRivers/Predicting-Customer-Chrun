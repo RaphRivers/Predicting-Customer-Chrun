{
 "cells": [
  {
   "cell_type": "markdown",
   "id": "3a09563b-9ba3-4fe4-9997-b9de35336f94",
   "metadata": {},
   "source": [
    "# Predicting customer churn (attrition)\n",
    "\n",
    "### By: Raphael Rivers"
   ]
  },
  {
   "cell_type": "markdown",
   "id": "39a47809-a385-49ea-aaae-1c3f894ac573",
   "metadata": {},
   "source": [
    "# Model Predictions, Performance and Cross-Validation"
   ]
  },
  {
   "cell_type": "markdown",
   "id": "86553cd2-7a23-475b-8f72-a9bff1ef2ba7",
   "metadata": {},
   "source": [
    "The model prediction will use `Model 8` and `Model 5`, which appear to be the best models on the training set. To perform prediction we will create a new dataset and classify them."
   ]
  },
  {
   "cell_type": "code",
   "execution_count": null,
   "id": "249f5f76-b8ff-47e2-a3ef-b794e932a01d",
   "metadata": {},
   "outputs": [],
   "source": [
    "# Import all modules and read in dataset\n",
    "from modules import*"
   ]
  },
  {
   "cell_type": "code",
   "execution_count": null,
   "id": "32541c87-00a7-443b-bdb6-d927a6b68dfd",
   "metadata": {},
   "outputs": [],
   "source": [
    "# retrive models and numeric clusters\n",
    "%store -r formula_list\n",
    "%store -r fit_df"
   ]
  },
  {
   "cell_type": "code",
   "execution_count": null,
   "id": "ce54f924-b4c1-4ec3-8e3c-e7195af8e56b",
   "metadata": {},
   "outputs": [],
   "source": [
    "# Make deep copy\n",
    "df_copy = fit_df\n",
    "\n",
    "# One-hot encode categorical variables\n",
    "df_encoded = pd.get_dummies(df_copy, columns=['state', 'area_code', 'international_plan', 'voice_mail_plan'], drop_first=True)\n",
    "\n",
    "# Display the first few rows of the encoded dataframe\n",
    "df_encoded.head()\n"
   ]
  },
  {
   "cell_type": "code",
   "execution_count": null,
   "id": "37b21091-e508-43b3-bccb-4037a9232718",
   "metadata": {},
   "outputs": [],
   "source": [
    "# Define coeficient CI plot\n",
    "def coefplot(model, figsize_use=(10, 4)):\n",
    "    fig, ax = plt.subplots(figsize=figsize_use)\n",
    "    \n",
    "    ax.errorbar( y=model.params.index,\n",
    "                 x=model.params,\n",
    "                 xerr = 2 * model.bse,\n",
    "                 fmt='v', color='b', ecolor='b', elinewidth=2, ms=10)\n",
    "    \n",
    "    ax.axvline(x=0, linestyle='--', linewidth=3.5, color='grey')\n",
    "    \n",
    "    ax.set_xlabel('Coefficient Value')\n",
    "    \n",
    "    plt.show()"
   ]
  },
  {
   "cell_type": "code",
   "execution_count": null,
   "id": "e20c713a-01ac-4922-a9eb-07c2cb232492",
   "metadata": {},
   "outputs": [],
   "source": [
    "# Check Model 8 fomula\n",
    "formula_list[-1]"
   ]
  },
  {
   "cell_type": "code",
   "execution_count": null,
   "id": "37504f73-6068-472f-8a5e-2b7b46e56a1d",
   "metadata": {},
   "outputs": [],
   "source": [
    "# Fit model 8\n",
    "model_8 = smf.logit(formula=formula_list[-1], data=fit_df).fit()"
   ]
  },
  {
   "cell_type": "code",
   "execution_count": null,
   "id": "18fd9669-ea54-4bcb-bce9-e9f19a0530ce",
   "metadata": {},
   "outputs": [],
   "source": [
    "coefplot(model_8)"
   ]
  },
  {
   "cell_type": "code",
   "execution_count": null,
   "id": "5859e66b-f6fb-45a0-ba66-e5c646c46510",
   "metadata": {},
   "outputs": [],
   "source": [
    "# Check Model 5 formula\n",
    "formula_list[5]"
   ]
  },
  {
   "cell_type": "code",
   "execution_count": null,
   "id": "f1c7123c-56dc-4744-88ae-fea511eda812",
   "metadata": {},
   "outputs": [],
   "source": [
    "# Fit model 5\n",
    "model_5 = smf.logit(formula=formula_list[5], data=fit_df).fit()"
   ]
  },
  {
   "cell_type": "code",
   "execution_count": null,
   "id": "3f3a53f0-40c3-4b4f-a6df-1fb3f6ae7811",
   "metadata": {},
   "outputs": [],
   "source": [
    "coefplot(model_5)"
   ]
  },
  {
   "cell_type": "markdown",
   "id": "bddfef6d-55cd-4e0d-9b0e-4cda2843eed8",
   "metadata": {},
   "source": [
    "### Create the Input Grid"
   ]
  },
  {
   "cell_type": "code",
   "execution_count": null,
   "id": "740e587a-4549-4f0c-bb14-c71eb039c520",
   "metadata": {},
   "outputs": [],
   "source": [
    "# Continuous input for grid with 101 unique values\n",
    "continuous_input = 'total_day_minutes'\n",
    "min_value = df_encoded[continuous_input].min()\n",
    "max_value = df_encoded[continuous_input].max()\n",
    "grid_values = np.linspace(min_value, max_value, 101)"
   ]
  },
  {
   "cell_type": "code",
   "execution_count": null,
   "id": "6ef77946-8b8b-4243-bcfe-ab9688bb07f3",
   "metadata": {},
   "outputs": [],
   "source": [
    "# Other two important inputs\n",
    "other_input1 = 'pca_cluster'\n",
    "other_input2 = 'total_eve_minutes'"
   ]
  },
  {
   "cell_type": "code",
   "execution_count": null,
   "id": "90c3a2a9-e4be-4e88-b38b-22074466e0b0",
   "metadata": {},
   "outputs": [],
   "source": [
    "# Unique values for other inputs\n",
    "unique_values_1 = df_encoded[other_input1].unique()\n",
    "unique_values_2 = np.linspace(df_encoded[other_input2].min(), df_encoded[other_input2].max(), 5)"
   ]
  },
  {
   "cell_type": "code",
   "execution_count": null,
   "id": "d26d9597-ec55-4b29-bd67-bcb6d9563d8e",
   "metadata": {},
   "outputs": [],
   "source": [
    "# Set constant values for remaining inputs\n",
    "constant_values = df_encoded.median()\n",
    "constant_values[other_input1] = df_encoded[other_input1].mode()[0]"
   ]
  },
  {
   "cell_type": "code",
   "execution_count": null,
   "id": "5b346010-8c8a-46a3-948f-a1115b2697d6",
   "metadata": {},
   "outputs": [],
   "source": [
    "# Create the input grid dataframe\n",
    "input_grid = pd.DataFrame({\n",
    "    continuous_input: np.tile(grid_values, len(unique_values_1)),\n",
    "    other_input1: np.repeat(unique_values_1, 101),\n",
    "    other_input2: constant_values[other_input2]\n",
    "})"
   ]
  },
  {
   "cell_type": "code",
   "execution_count": null,
   "id": "45255418-9fa5-4ac6-9778-9fb8b47255d8",
   "metadata": {},
   "outputs": [],
   "source": [
    "# Set constant values for remaining inputs\n",
    "for col in df_encoded.columns:\n",
    "    if col not in input_grid.columns:\n",
    "        input_grid[col] = constant_values[col]"
   ]
  },
  {
   "cell_type": "code",
   "execution_count": null,
   "id": "aa4b6f1a-53f8-4187-a3a9-f1bc1f94aab7",
   "metadata": {},
   "outputs": [],
   "source": [
    "# Display the input grid\n",
    "input_grid.head()"
   ]
  },
  {
   "cell_type": "code",
   "execution_count": null,
   "id": "2ffe8e46-a607-4ee1-8a8d-50d9c26d219b",
   "metadata": {},
   "outputs": [],
   "source": [
    "# Define formulas for Models 4 and 8 using encoded data\n",
    "formula_5 = 'churn ~ pca_cluster * (total_day_minutes + total_eve_minutes + total_night_minutes + total_intl_minutes)'\n",
    "formula_8 = 'churn ~ pca_cluster * (total_day_minutes + total_eve_minutes + total_night_minutes + total_intl_minutes + np.power(total_day_minutes, 2) + np.power(total_eve_minutes, 2) + np.power(total_night_minutes, 2) + np.power(total_intl_minutes, 2))'\n",
    "\n",
    "# Fit Models 5 and 8\n",
    "model_5 = smf.logit(formula=formula_5, data=df_encoded).fit(disp=False)\n",
    "model_8 = smf.logit(formula=formula_8, data=df_encoded).fit(disp=False)\n",
    "\n",
    "# Make predictions for Models 5 and 8\n",
    "input_grid['pred_5'] = model_5.predict(input_grid)\n",
    "input_grid['pred_8'] = model_8.predict(input_grid)\n",
    "\n",
    "# Display the input grid with predictions\n",
    "input_grid[['total_day_minutes', 'pca_cluster', 'pred_5', 'pred_8']].head()"
   ]
  },
  {
   "cell_type": "markdown",
   "id": "d61e1158-9f50-4f04-a1c1-e98faf03dcc9",
   "metadata": {},
   "source": [
    "### Visualize the Predictions"
   ]
  },
  {
   "cell_type": "code",
   "execution_count": null,
   "id": "15b41d0e-bf8a-4fa3-afa4-626417ec7481",
   "metadata": {},
   "outputs": [],
   "source": [
    "# Plot predictions for Model 5\n",
    "plt.figure(figsize=(10, 7))\n",
    "sns.lineplot(data=input_grid, x='total_day_minutes', y='pred_5', hue='pca_cluster', palette='viridis')\n",
    "plt.title('Model 5: Event Probability')\n",
    "plt.show()"
   ]
  },
  {
   "cell_type": "code",
   "execution_count": null,
   "id": "231b852e-1feb-46f3-ba70-453ec6a9a09a",
   "metadata": {},
   "outputs": [],
   "source": [
    "# Plot predictions for Model 8\n",
    "plt.figure(figsize=(10, 7))\n",
    "sns.lineplot(data=input_grid, x='total_day_minutes', y='pred_8', hue='pca_cluster', palette='viridis')\n",
    "plt.title('Model 8: Event Probability')\n",
    "plt.show()\n"
   ]
  },
  {
   "cell_type": "markdown",
   "id": "2166d76a-2059-42ba-866b-608a09521162",
   "metadata": {},
   "source": [
    "### Prediction Summary\n",
    "The prediction results for Models 5 and 8, visualized in the plots, indicate how the event probability (churn) varies with `total_day_minutes`, differentiated by the pca_cluster categories. In both models, the probability of `churn` generally increases as the `total_day_minutes` increases, but the rate of increase varies across different clusters. \n",
    "Specifically, certain clusters exhibit a sharper rise in churn probability with increasing `total_day_minutes`, suggesting that these groups are more sensitive to higher usage. Model 8, which includes interaction terms and polynomial features, shows more nuanced trends with slight fluctuations in the churn probability, indicating a more complex relationship between the features. This suggests that while both models capture the general trend of increasing churn with usage, Model 8 provides a more detailed and potentially more accurate representation of the underlying patterns, especially for different customer segments defined by the PCA clusters."
   ]
  },
  {
   "cell_type": "markdown",
   "id": "5492c83e-6425-4dd8-9675-1a2c475fa577",
   "metadata": {},
   "source": [
    "## Performance and Validation"
   ]
  },
  {
   "cell_type": "code",
   "execution_count": null,
   "id": "48b8276a-20ec-46d8-8651-77f474e72f2b",
   "metadata": {},
   "outputs": [],
   "source": [
    "# Import modules\n",
    "from sklearn.model_selection import StratifiedKFold, cross_val_score\n",
    "from sklearn.metrics import roc_auc_score"
   ]
  },
  {
   "cell_type": "code",
   "execution_count": null,
   "id": "0bd37a55-7954-4761-9b04-c3046b882af6",
   "metadata": {},
   "outputs": [],
   "source": [
    "# Define function to evaluate model using cross-validation\n",
    "def evaluate_model_cv(formula, data, n_splits=5):\n",
    "    skf = StratifiedKFold(n_splits=n_splits)\n",
    "    auc_scores = []\n",
    "    \n",
    "    for train_index, test_index in skf.split(data, data['churn']):\n",
    "        train_data = data.iloc[train_index]\n",
    "        test_data = data.iloc[test_index]\n",
    "        \n",
    "        model = smf.logit(formula=formula, data=train_data).fit(disp=False)\n",
    "        predictions = model.predict(test_data)\n",
    "        \n",
    "        auc = roc_auc_score(test_data['churn'], predictions)\n",
    "        auc_scores.append(auc)\n",
    "    \n",
    "    return auc_scores"
   ]
  },
  {
   "cell_type": "code",
   "execution_count": null,
   "id": "bc395a0c-98d4-4526-96cb-1d618f55ed0e",
   "metadata": {},
   "outputs": [],
   "source": [
    "# Evaluate Models 5 and 8 using cross-validation\n",
    "auc_scores_5 = evaluate_model_cv(formula_list[5], fit_df)\n",
    "auc_scores_8 = evaluate_model_cv(formula_list[8], fit_df)"
   ]
  },
  {
   "cell_type": "code",
   "execution_count": null,
   "id": "563e05b0-d115-4a88-9efe-32f40f8a6f3a",
   "metadata": {},
   "outputs": [],
   "source": [
    "# Calculate The model 5 mean and 95% confidence interval for ROC AUC scores\n",
    "mean_auc_5 = np.mean(auc_scores_5)\n",
    "std_auc_5 = np.std(auc_scores_5)\n",
    "ci_5 = 1.96 * std_auc_5 / np.sqrt(len(auc_scores_5))"
   ]
  },
  {
   "cell_type": "code",
   "execution_count": null,
   "id": "033536fb-3eeb-47bc-baf9-3c1d8b809ce6",
   "metadata": {},
   "outputs": [],
   "source": [
    "# Calculate The model 8 mean and 95% confidence interval for ROC AUC scores\n",
    "mean_auc_8 = np.mean(auc_scores_8)\n",
    "std_auc_8 = np.std(auc_scores_8)\n",
    "ci_8 = 1.96 * std_auc_8 / np.sqrt(len(auc_scores_8))"
   ]
  },
  {
   "cell_type": "code",
   "execution_count": null,
   "id": "ed3414c5-2319-4949-99bb-e5792c4b731a",
   "metadata": {},
   "outputs": [],
   "source": [
    "# Display the validation results\n",
    "validation_results_df = pd.DataFrame({\n",
    "    'Model': ['Model 5', 'Model 8'],\n",
    "    'Mean ROC AUC': [mean_auc_5, mean_auc_8],\n",
    "    '95% CI': [ci_5, ci_8]\n",
    "})\n",
    "validation_results_df"
   ]
  },
  {
   "cell_type": "code",
   "execution_count": null,
   "id": "b055cb7d-7c91-43bd-9379-c41fc3afb64a",
   "metadata": {},
   "outputs": [],
   "source": [
    "#Visualize the results\n",
    "# Visualize the results\n",
    "plt.figure(figsize=(10, 6))\n",
    "plt.errorbar(x=['Model 5', 'Model 8'], y=[mean_auc_5, mean_auc_8], yerr=[ci_5, ci_8], fmt='o', capsize=5)\n",
    "plt.title('Cross-Validation ROC AUC Scores with 95% Confidence Interval')\n",
    "plt.ylabel('Mean ROC AUC')\n",
    "plt.show()"
   ]
  },
  {
   "cell_type": "markdown",
   "id": "e0cb9d98-258b-42fc-ae3a-fa1d51ad59e9",
   "metadata": {},
   "source": [
    "### Model preformance validation interpretation"
   ]
  },
  {
   "cell_type": "markdown",
   "id": "b801c0a2-7276-4f38-b627-3b75e50c248c",
   "metadata": {},
   "source": [
    "From the best-fit model performance validation results and visualization, we can see that the Mean ROC AUC for `Model 5` has a mean ROC AUC score of 0.6705 and `Model 8` has a mean ROC AUC score of 0.6798. This ROC_AUC score indicates the model's ability to distinguish between the positive class (churn) and the negative class (no churn). Higher values indicate better performance. `Model 8` has a slightly higher ROC_AUC score compared to Model_5, indicating better performance in distinguishing between churn and non-churn customers. And this is consistent across the board. \n",
    "\n",
    "How confident are we with these results? The 95% Confidence Interval reveals that a 0.0175 estimate for `Model 5` and 0.0117 for `Model 8`. Overall the 95% confidence interval gives an estimate of the uncertainty around the mean ROC_AUC score. The smaller CI indicates a more reliable and stable performance as seen with `Model 8`. Model 8 not only has a higher mean ROC AUC score but also a smaller confidence interval compared to Model 4, indicating more consistent performance across different folds."
   ]
  },
  {
   "cell_type": "markdown",
   "id": "1cb49c07-1143-405b-986e-96f3304662e1",
   "metadata": {},
   "source": [
    "### Insight From Analysis"
   ]
  },
  {
   "cell_type": "markdown",
   "id": "78ccf0b7-e769-4bf8-a094-e4ce1f57dc22",
   "metadata": {
    "jp-MarkdownHeadingCollapsed": true
   },
   "source": [
    "This provides several key insights into the customer data, which can be crucial for understanding customer behavior and making strategic decisions. \n",
    "\n",
    "1. Customer Segments:\n",
    "\n",
    "- Cluster 0: This cluster might represent customers with moderate usage across all services. Their account length, day, evening, and night call minutes and charges are all around average compared to other clusters.\n",
    "- Cluster 1: Customers in this cluster tend to have lower total minutes and charges across different time periods. They might be light users with minimal interaction with the service.\n",
    "- Cluster 2: This cluster likely includes heavy users, as indicated by higher total day, evening, and night minutes and corresponding charges. These customers might be more valuable but also more demanding in terms of service.\n",
    "- Cluster 3: Similar to Cluster 2 but with slightly different usage patterns, possibly indicating a different type of high-usage behavior, such as more international calls or higher customer service interactions.\n",
    "\n",
    "2. Usage Patterns:\n",
    "\n",
    "- Total Minutes and Charges: Clusters reveal distinct patterns in the total minutes and charges. Heavy users (Cluster 2 and Cluster 3) show significantly higher values, indicating a strong relationship between usage and charges.\n",
    "- Voicemail and Customer Service Calls: The log-transformed variables for voicemail messages and customer service calls show varying concentrations across clusters. For instance, a higher number of customer service calls in Cluster 3 might indicate dissatisfaction or complex service needs.\n",
    "\n",
    "3. Impact of International and Voice Mail Plans:\n",
    "\n",
    "- Clusters can help identify the impact of having an international plan or a voice mail plan. For example, if one cluster shows significantly higher usage and charges for international calls, it can inform the marketing team to target similar users with international plans.\n",
    "\n",
    "4. Service Needs and Customer Behavior:\n",
    "\n",
    "- Customer Service Calls: The clusters help in identifying which segments are more likely to interact with customer service frequently. This can be critical for improving customer satisfaction and reducing churn.\n",
    "- Voicemail Usage: Identifying clusters with higher voicemail usage can help tailor communication and feature offerings to enhance user experience.\n",
    "\n",
    "5. Strategic Implications:\n",
    "\n",
    "- Targeted Marketing: By understanding the distinct clusters, marketing efforts can be more targeted, focusing on high-value customers or those needing specific services.\n",
    "- Service Improvements: Recognizing clusters with higher customer service interactions can lead to targeted improvements in service quality and support.\n",
    "- Churn Prediction: Clusters with high usage but also high customer service calls might be at higher risk of churn. This insight can be used to develop retention strategies.\n",
    "\n",
    "6. Dimensionality Reduction Effectiveness:\n",
    "\n",
    "- The PCA transformation effectively reduced the data's dimensionality while preserving the variance, making it easier to visualize and interpret the clusters.\n",
    "\n",
    "Overall, the PCA-based clustering revealed significant insights into customer behavior, usage patterns, and service needs. These insights can guide targeted marketing, service improvements, and strategic decisions to enhance customer satisfaction and retention. The clusters provide a clear segmentation of customers, helping to tailor strategies for different segments effectively."
   ]
  }
 ],
 "metadata": {
  "kernelspec": {
   "display_name": "Python 3 (ipykernel)",
   "language": "python",
   "name": "python3"
  },
  "language_info": {
   "codemirror_mode": {
    "name": "ipython",
    "version": 3
   },
   "file_extension": ".py",
   "mimetype": "text/x-python",
   "name": "python",
   "nbconvert_exporter": "python",
   "pygments_lexer": "ipython3",
   "version": "3.12.3"
  }
 },
 "nbformat": 4,
 "nbformat_minor": 5
}
